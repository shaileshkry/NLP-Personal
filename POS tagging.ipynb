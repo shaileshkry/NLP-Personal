{
 "cells": [
  {
   "cell_type": "code",
   "execution_count": 1,
   "id": "e232183c",
   "metadata": {},
   "outputs": [],
   "source": [
    "\n",
    "import spacy\n",
    "import requests as rq\n",
    "from bs4 import BeautifulSoup as bsp\n",
    "import re"
   ]
  },
  {
   "cell_type": "code",
   "execution_count": 2,
   "id": "11f01f3c",
   "metadata": {},
   "outputs": [
    {
     "name": "stdout",
     "output_type": "stream",
     "text": [
      "dia vs Afghanistan, 2nd T20I, Jan 14, Afghanistan tour of India, 2024 | Cricbuzz.com\n",
      " India record in home T20I series since June 2019 Played 15 Won 13 * Drawn 2 Lost 0\n",
      " 22:01 Local Time, 16:31 GMT, 22:01 IST: So India seal the game with overs to go. Despite losing skipper Rohit Sharma for a duck, the hosts never broke a sweat in this chase. Kohli played overly aggressive, playing a few proper slogs as he scored a brisk 29 before falling to Naveen-ul-Haq. Jaiswal on the other end though stayed busy throughout his innings, always looking for the aggressive option. He attacked Mujeeb and Noor Ahmad, getting to a 27-ball fifty. At the other end was the spin basher Shivam Dube who took down an experienced campaigner like Nabi for three consecutive sixes, and then there was no turning back. Another impressive knock from the southpaw, as he notched up a 22-ball fifty and stayed till the end to help his team cross the line. Karim Janat came on and stalled the end by picking two in his first over, but the result was never in doubt. India take an unassailable 2-0 lead in the series, stay around for the presentations.\n",
      " Fazalhaq Farooqi to Shivam Dube, leg byes, 1 run, a leg bye to win it!! Full and sliding onto the pads, deflects behind square and the Indians will cross over. An easy win and they claim the series as well. \n",
      " Fazalhaq Farooqi to Shivam Dube, no run, yorker length delivery again, stabbed towards mid-off. Dube starts off on the run but then retracts back\n",
      " Fazalhaq Farooqi to Rinku Singh, 1 run, low full toss, slammed to the left of mid-on for a single. Over to Dube to get the winning runs!\n",
      " Fazalhaq Farooqi to Rinku Singh, no run, in the blockhole from Farooqi, dug out towards extra cover\n",
      " Karim Janat to Rinku Singh, 1 run, hits the hard length on middle. Rinku tries a pull heave but off the splice and goes tamely towards long-on\n",
      " Karim Janat to Shivam Dube, 1 run, yorker length, stabbed out towards long-on\n",
      " Karim Janat to Shivam Dube, no run, pace off and angling across outside off, goes under Shivam Dube's big bat swing\n",
      " Karim Janat to Rinku Singh, 1 run, good length on middle and leg, pulled towards deep backward square leg\n",
      " Karim Janat to Rinku Singh, no run, in the blockhole on off stump. Blocked out\n",
      " One hit away now...\n",
      " Karim Janat to Rinku Singh, FOUR, on a length on off stump, slightly skiddy. Slammed to the right of deep mid-wicket for a boundary\n",
      "dia vs Afghanistan, 2nd T20I, Jan 14, Afghanistan tour of India, 2024 | Cricbuzz.com\n",
      " India record in home T20I series since June 2019 Played 15 Won 13 * Drawn 2 Lost 0\n",
      " 22:01 Local Time, 16:31 GMT, 22:01 IST: So India seal the game with overs to go. Despite losing skipper Rohit Sharma for a duck, the hosts never broke a sweat in this chase. Kohli played overly aggressive, playing a few proper slogs as he scored a brisk 29 before falling to Naveen-ul-Haq. Jaiswal on the other end though stayed busy throughout his innings, always looking for the aggressive option. He attacked Mujeeb and Noor Ahmad, getting to a 27-ball fifty. At the other end was the spin basher Shivam Dube who took down an experienced campaigner like Nabi for three consecutive sixes, and then there was no turning back. Another impressive knock from the southpaw, as he notched up a 22-ball fifty and stayed till the end to help his team cross the line. Karim Janat came on and stalled the end by picking two in his first over, but the result was never in doubt. India take an unassailable 2-0 lead in the series, stay around for the presentations.\n",
      " Fazalhaq Farooqi to Shivam Dube, leg byes, 1 run, a leg bye to win it!! Full and sliding onto the pads, deflects behind square and the Indians will cross over. An easy win and they claim the series as well. \n",
      " Fazalhaq Farooqi to Shivam Dube, no run, yorker length delivery again, stabbed towards mid-off. Dube starts off on the run but then retracts back\n",
      " Fazalhaq Farooqi to Rinku Singh, 1 run, low full toss, slammed to the left of mid-on for a single. Over to Dube to get the winning runs!\n",
      " Fazalhaq Farooqi to Rinku Singh, no run, in the blockhole from Farooqi, dug out towards extra cover\n",
      " Karim Janat to Rinku Singh, 1 run, hits the hard length on middle. Rinku tries a pull heave but off the splice and goes tamely towards long-on\n",
      " Karim Janat to Shivam Dube, 1 run, yorker length, stabbed out towards long-on\n",
      " Karim Janat to Shivam Dube, no run, pace off and angling across outside off, goes under Shivam Dube's big bat swing\n",
      " Karim Janat to Rinku Singh, 1 run, good length on middle and leg, pulled towards deep backward square leg\n",
      " Karim Janat to Rinku Singh, no run, in the blockhole on off stump. Blocked out\n",
      " One hit away now...\n",
      " Karim Janat to Rinku Singh, FOUR, on a length on off stump, slightly skiddy. Slammed to the right of deep mid-wicket for a boundary\n",
      "\n"
     ]
    }
   ],
   "source": [
    "link='https://www.cricbuzz.com/live-cricket-scores/78614/afg-vs-ind-2nd-t20i-afghanistan-tour-of-india-2024'\n",
    "res=rq.get(link)\n",
    "html=res.text\n",
    "soup=bsp(html,'html.parser')\n",
    "j=0\n",
    "title=soup.find('title').text[2:]\n",
    "pdf=title +\"\\n\"\n",
    "print(soup.find('title').text[2:])\n",
    "\n",
    "for i in soup.find_all('p') or soup.find_all('h1') or soup.find_all('h2') or soup.find_all('b'):\n",
    "    if j in range(10,30):\n",
    "        print(i.text)\n",
    "        pdf+=str(i.text)+'\\n'\n",
    "    j+=1\n",
    "print(pdf)"
   ]
  },
  {
   "cell_type": "code",
   "execution_count": 3,
   "id": "a57f128f",
   "metadata": {},
   "outputs": [],
   "source": [
    "nlp=spacy.load('en_core_web_sm')"
   ]
  },
  {
   "cell_type": "code",
   "execution_count": 4,
   "id": "4d3465d3",
   "metadata": {},
   "outputs": [],
   "source": [
    "doc=nlp(pdf)"
   ]
  },
  {
   "cell_type": "code",
   "execution_count": 13,
   "id": "22d2d0d1",
   "metadata": {},
   "outputs": [
    {
     "name": "stdout",
     "output_type": "stream",
     "text": [
      "seal \t VERB \t verb \t VBP \t verb, non-3rd person singular present\n",
      "the \t DET \t determiner \t DT \t determiner\n",
      "game \t NOUN \t noun \t NN \t noun, singular or mass\n",
      "with \t ADP \t adposition \t IN \t conjunction, subordinating or preposition\n",
      "overs \t NOUN \t noun \t NNS \t noun, plural\n",
      "to \t PART \t particle \t TO \t infinitival \"to\"\n",
      "go \t VERB \t verb \t VB \t verb, base form\n",
      ". \t PUNCT \t punctuation \t . \t punctuation mark, sentence closer\n",
      "Despite \t SCONJ \t subordinating conjunction \t IN \t conjunction, subordinating or preposition\n",
      "losing \t VERB \t verb \t VBG \t verb, gerund or present participle\n",
      "skipper \t NOUN \t noun \t NN \t noun, singular or mass\n",
      "Rohit \t PROPN \t proper noun \t NNP \t noun, proper singular\n",
      "Sharma \t PROPN \t proper noun \t NNP \t noun, proper singular\n",
      "for \t ADP \t adposition \t IN \t conjunction, subordinating or preposition\n",
      "a \t DET \t determiner \t DT \t determiner\n",
      "duck \t NOUN \t noun \t NN \t noun, singular or mass\n",
      ", \t PUNCT \t punctuation \t , \t punctuation mark, comma\n",
      "the \t DET \t determiner \t DT \t determiner\n",
      "hosts \t NOUN \t noun \t NNS \t noun, plural\n",
      "never \t ADV \t adverb \t RB \t adverb\n",
      "broke \t VERB \t verb \t VBD \t verb, past tense\n",
      "a \t DET \t determiner \t DT \t determiner\n",
      "sweat \t NOUN \t noun \t NN \t noun, singular or mass\n",
      "in \t ADP \t adposition \t IN \t conjunction, subordinating or preposition\n",
      "this \t DET \t determiner \t DT \t determiner\n"
     ]
    }
   ],
   "source": [
    "for token in doc[50:75]:\n",
    "    print(token,'\\t',token.pos_,'\\t',spacy.explain(token.pos_),\n",
    "          '\\t',token.tag_,'\\t',spacy.explain(token.tag_))"
   ]
  },
  {
   "cell_type": "code",
   "execution_count": 14,
   "id": "f4f06971",
   "metadata": {},
   "outputs": [
    {
     "data": {
      "text/plain": [
       "{96: 88,\n",
       " 85: 71,\n",
       " 97: 71,\n",
       " 93: 25,\n",
       " 92: 82,\n",
       " 103: 14,\n",
       " 98: 6,\n",
       " 100: 47,\n",
       " 86: 22,\n",
       " 90: 45,\n",
       " 94: 5,\n",
       " 84: 28,\n",
       " 95: 10,\n",
       " 89: 13,\n",
       " 87: 3,\n",
       " 99: 1,\n",
       " 91: 1}"
      ]
     },
     "execution_count": 14,
     "metadata": {},
     "output_type": "execute_result"
    }
   ],
   "source": [
    "doc.count_by(spacy.attrs.POS)"
   ]
  },
  {
   "cell_type": "code",
   "execution_count": 15,
   "id": "3876fd22",
   "metadata": {},
   "outputs": [
    {
     "data": {
      "text/plain": [
       "<spacy.lexeme.Lexeme at 0x155bf210280>"
      ]
     },
     "execution_count": 15,
     "metadata": {},
     "output_type": "execute_result"
    }
   ],
   "source": [
    "doc.vocab[96]"
   ]
  },
  {
   "cell_type": "code",
   "execution_count": 16,
   "id": "5a9ec764",
   "metadata": {},
   "outputs": [
    {
     "data": {
      "text/plain": [
       "'PROPN'"
      ]
     },
     "execution_count": 16,
     "metadata": {},
     "output_type": "execute_result"
    }
   ],
   "source": [
    "doc.vocab[96].text"
   ]
  }
 ],
 "metadata": {
  "kernelspec": {
   "display_name": "Python 3 (ipykernel)",
   "language": "python",
   "name": "python3"
  },
  "language_info": {
   "codemirror_mode": {
    "name": "ipython",
    "version": 3
   },
   "file_extension": ".py",
   "mimetype": "text/x-python",
   "name": "python",
   "nbconvert_exporter": "python",
   "pygments_lexer": "ipython3",
   "version": "3.11.5"
  }
 },
 "nbformat": 4,
 "nbformat_minor": 5
}
